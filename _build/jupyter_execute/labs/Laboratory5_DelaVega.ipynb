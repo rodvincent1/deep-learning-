{
 "cells": [
  {
   "cell_type": "markdown",
   "id": "bca75802-b827-429b-b1d3-3516da8758e7",
   "metadata": {
    "id": "bca75802-b827-429b-b1d3-3516da8758e7"
   },
   "source": [
    "# Laboratory 5\n",
    "**Name:** Rod Vincent Dela Vega\n",
    "\n",
    "**Section:** DS4A\n",
    "\n",
    "\n",
    "1. Perform Standard Imports\n",
    "\n",
    "\n",
    "2. Create a function called set_seed() that accepts seed: int as a parameter, this function must return nothing but just set the seed to a certain value.\n",
    "\n",
    "\n",
    "3. Create a NumPy array called \"arr\" that contains 6 random integers between 0 (inclusive) and 5 (exclusive), call the set_seed() function and use 42 as the seed parameter.\n",
    "\n",
    "\n",
    "4. Create a tensor \"x\" from the array above\n",
    "\n",
    "\n",
    "5. Change the dtype of x from int32 to int64\n",
    "\n",
    "\n",
    "6. Reshape x into a 3x2 tensor\n",
    "There are several ways to do this.\n",
    "\n",
    "\n",
    "7. Return the right-hand column of tensor x\n",
    "\n",
    "\n",
    "8. Without changing x, return a tensor of square values of x\n",
    "There are several ways to do this.\n",
    "\n",
    "\n",
    "9. Create a tensor y with the same number of elements as x, that can be matrix-multiplied with x\n",
    "Use PyTorch directly (not NumPy) to create a tensor of random integers between 0 (inclusive) and 5 (exclusive). Use 42 as seed.\n",
    "Think about what shape it should have to permit matrix multiplication.\n",
    "\n",
    "\n",
    "10. Find the matrix product of x and y."
   ]
  },
  {
   "cell_type": "code",
   "execution_count": null,
   "id": "adf8fa42-c7fe-4dd8-ac59-c45621195ce5",
   "metadata": {
    "id": "adf8fa42-c7fe-4dd8-ac59-c45621195ce5"
   },
   "outputs": [],
   "source": [
    "# 1 Perform Standard Imports\n",
    "import torch\n",
    "import numpy as np\n",
    "import sys\n",
    "import random"
   ]
  },
  {
   "cell_type": "code",
   "execution_count": null,
   "id": "a849e675-4825-4df4-80cf-02bb0a52666b",
   "metadata": {
    "id": "a849e675-4825-4df4-80cf-02bb0a52666b"
   },
   "outputs": [],
   "source": [
    "# 2. Create a function called set_seed()\n",
    "def set_seed(seed: int):\n",
    "    np.random.seed(seed)\n",
    "    torch.manual_seed(seed)\n",
    "    random.seed(seed)"
   ]
  },
  {
   "cell_type": "code",
   "execution_count": null,
   "id": "4d90563c-94f9-46a5-a1e6-e0fd6511034b",
   "metadata": {
    "id": "4d90563c-94f9-46a5-a1e6-e0fd6511034b",
    "outputId": "6a08dff2-93ad-498f-df1c-a5e09a9ca778"
   },
   "outputs": [
    {
     "name": "stdout",
     "output_type": "stream",
     "text": [
      "NumPy array:\n",
      " [3 4 2 4 4 1]\n"
     ]
    }
   ],
   "source": [
    "# 3. Create NumPy array \"arr\" with random integers between 0 and 5\n",
    "set_seed(42)\n",
    "arr = np.random.randint(0, 5, 6, dtype=np.int64)\n",
    "print(\"NumPy array:\\n\", arr)"
   ]
  },
  {
   "cell_type": "code",
   "execution_count": null,
   "id": "115875fd-5841-4ebc-826b-7f03eb151024",
   "metadata": {
    "id": "115875fd-5841-4ebc-826b-7f03eb151024",
    "outputId": "3dbdf386-1e0f-47a4-e6b2-03aa7e494b63"
   },
   "outputs": [
    {
     "name": "stdout",
     "output_type": "stream",
     "text": [
      "\n",
      "Tensor x:\n",
      " tensor([3, 4, 2, 4, 4, 1])\n",
      "dtype: torch.int64\n"
     ]
    }
   ],
   "source": [
    "# 4. Create tensor \"x\" from the array above\n",
    "x = torch.from_numpy(arr)\n",
    "print(\"\\nTensor x:\\n\", x)\n",
    "print(\"dtype:\", x.dtype)"
   ]
  },
  {
   "cell_type": "code",
   "execution_count": null,
   "id": "d46b42c2-a208-4734-b9b3-5a177ed06d83",
   "metadata": {
    "id": "d46b42c2-a208-4734-b9b3-5a177ed06d83",
    "outputId": "a8a5174e-77ef-4ee3-f673-cdecbce93dc1"
   },
   "outputs": [
    {
     "name": "stdout",
     "output_type": "stream",
     "text": [
      "\n",
      "Tensor x (int64):\n",
      " tensor([3, 4, 2, 4, 4, 1])\n",
      "dtype: torch.int64\n"
     ]
    }
   ],
   "source": [
    "# 5. Change dtype of x from int64 to int64 (already int64, but safe to enforce)\n",
    "x = x.long()  # or x = x.type(torch.int64)\n",
    "print(\"\\nTensor x (int64):\\n\", x)\n",
    "print(\"dtype:\", x.dtype)"
   ]
  },
  {
   "cell_type": "code",
   "execution_count": null,
   "id": "d053dbf1-ab38-4d64-b30a-130653cec3a1",
   "metadata": {
    "id": "d053dbf1-ab38-4d64-b30a-130653cec3a1",
    "outputId": "88fbffa8-5067-4fa3-bd76-d6ec9526841f"
   },
   "outputs": [
    {
     "name": "stdout",
     "output_type": "stream",
     "text": [
      "\n",
      "Tensor x reshaped (3x2):\n",
      " tensor([[3, 4],\n",
      "        [2, 4],\n",
      "        [4, 1]])\n"
     ]
    }
   ],
   "source": [
    "# 6. Reshape x into a 3x2 tensor\n",
    "x = x.view(3, 2)\n",
    "print(\"\\nTensor x reshaped (3x2):\\n\", x)"
   ]
  },
  {
   "cell_type": "code",
   "execution_count": null,
   "id": "def60228-c18c-40a3-b203-f2c8932f0771",
   "metadata": {
    "id": "def60228-c18c-40a3-b203-f2c8932f0771",
    "outputId": "98237c06-9771-45d1-972d-c0e0f7d74e87"
   },
   "outputs": [
    {
     "name": "stdout",
     "output_type": "stream",
     "text": [
      "\n",
      "Right-hand column:\n",
      " tensor([4, 4, 1])\n"
     ]
    }
   ],
   "source": [
    "# 7. Return the right-hand column of tensor x\n",
    "right_col = x[:, 1]\n",
    "print(\"\\nRight-hand column:\\n\", right_col)"
   ]
  },
  {
   "cell_type": "code",
   "execution_count": null,
   "id": "33b8d9fb-dc2d-4e19-adb3-45f0f9aa3de9",
   "metadata": {
    "id": "33b8d9fb-dc2d-4e19-adb3-45f0f9aa3de9",
    "outputId": "02a9ea0b-aa83-4b84-e76f-7be88171b569"
   },
   "outputs": [
    {
     "name": "stdout",
     "output_type": "stream",
     "text": [
      "\n",
      "Squared values of x:\n",
      " tensor([[ 9, 16],\n",
      "        [ 4, 16],\n",
      "        [16,  1]])\n"
     ]
    }
   ],
   "source": [
    "# 8. Without changing x, return a tensor of square values of x\n",
    "squared = x ** 2\n",
    "print(\"\\nSquared values of x:\\n\", squared)"
   ]
  },
  {
   "cell_type": "code",
   "execution_count": null,
   "id": "c69ba462-24cb-49b3-9701-d739317973d6",
   "metadata": {
    "id": "c69ba462-24cb-49b3-9701-d739317973d6",
    "outputId": "eaeffae4-8fe8-43c1-de65-c7a59a76533e"
   },
   "outputs": [
    {
     "name": "stdout",
     "output_type": "stream",
     "text": [
      "\n",
      "Tensor y (2x3):\n",
      " tensor([[2, 2, 1],\n",
      "        [4, 1, 0]])\n"
     ]
    }
   ],
   "source": [
    "# 9. Create tensor y with same num of elements as x that can be matrix-multiplied\n",
    "set_seed(42)\n",
    "y = torch.randint(0, 5, (2, 3), dtype=torch.int64)  # Match dtype with x\n",
    "print(\"\\nTensor y (2x3):\\n\", y)"
   ]
  },
  {
   "cell_type": "code",
   "execution_count": null,
   "id": "3fcb7cae-0441-415d-991d-a686fea5492d",
   "metadata": {
    "id": "3fcb7cae-0441-415d-991d-a686fea5492d",
    "outputId": "b248721e-fa03-4c6e-b380-721f68149cc4"
   },
   "outputs": [
    {
     "name": "stdout",
     "output_type": "stream",
     "text": [
      "\n",
      "Matrix product (x @ y):\n",
      " tensor([[22, 10,  3],\n",
      "        [20,  8,  2],\n",
      "        [12,  9,  4]])\n"
     ]
    }
   ],
   "source": [
    "# 10. Matrix product of x and y\n",
    "matmul_result = x @ y  # or torch.mm(x, y)\n",
    "print(\"\\nMatrix product (x @ y):\\n\", matmul_result)"
   ]
  }
 ],
 "metadata": {
  "colab": {
   "provenance": []
  },
  "kernelspec": {
   "display_name": "Python 3 (ipykernel)",
   "language": "python",
   "name": "python3"
  },
  "language_info": {
   "codemirror_mode": {
    "name": "ipython",
    "version": 3
   },
   "file_extension": ".py",
   "mimetype": "text/x-python",
   "name": "python",
   "nbconvert_exporter": "python",
   "pygments_lexer": "ipython3",
   "version": "3.9.0"
  }
 },
 "nbformat": 4,
 "nbformat_minor": 5
}