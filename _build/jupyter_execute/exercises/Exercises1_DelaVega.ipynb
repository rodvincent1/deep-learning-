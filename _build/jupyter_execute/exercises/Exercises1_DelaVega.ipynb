{
 "cells": [
  {
   "cell_type": "markdown",
   "id": "42a14256-91c8-446e-92a7-ab6bf11055d3",
   "metadata": {
    "id": "42a14256-91c8-446e-92a7-ab6bf11055d3"
   },
   "source": [
    "# Exercises 1  \n",
    "**Name:** Rod Vincent Dela Vega\n",
    "\n",
    "**Section:** DS4A\n",
    "\n",
    "\n",
    "\n",
    "**Reaction Paper: *Machine Learning: Living in the Age of AI \\| WIRED\n",
    "Film***\n",
    "\n",
    "Watching *“Machine Learning: Living in the Age of AI”* by WIRED opened\n",
    "my eyes to how artificial intelligence is already shaping our lives in\n",
    "ways I didn’t always notice. The documentary shows AI not as a distant\n",
    "dream, but as a present reality that is transforming industries and\n",
    "helping people in meaningful ways. For example, AI is helping doctors\n",
    "detect diseases earlier, assisting farmers in monitoring their crops,\n",
    "and even giving artists new tools to be creative. These real-life\n",
    "applications made me realize that AI is not just about futuristic\n",
    "robots—it is about improving the quality of human life.\n",
    "\n",
    "What impressed me most was how AI works alongside people instead of\n",
    "replacing them.\n",
    "\n",
    "The film showed how doctors use AI to be more precise in diagnosing\n",
    "illnesses, while farmers rely on it to make smarter decisions about\n",
    "planting and harvesting. Even in the arts, AI doesn’t take away\n",
    "creativity but supports it, offering new ways to express ideas. This\n",
    "gave me hope that AI can be developed as a partner to humanity, not as a\n",
    "competitor.\n",
    "\n",
    "Still, the documentary also raises important challenges. It points out\n",
    "issues like job displacement, privacy risks, and the possibility of AI\n",
    "becoming too complex for humans to fully control. While the idea of\n",
    "smarter cities, personalized education, and climate solutions is\n",
    "exciting, the film reminds us that these benefits come with\n",
    "responsibilities.\n",
    "\n",
    "Without careful regulation and ethical reflection, AI could deepen\n",
    "social inequalities or create new risks we are not prepared for.\n",
    "\n",
    "For me, the key lesson is the need to find balance. We must embrace the\n",
    "opportunities that AI offers while also being aware of its dangers. That\n",
    "means creating transparent systems, fair policies, and educating people\n",
    "about how AI really works.\n",
    "\n",
    "Overall, the documentary left me both inspired and cautious. Inspired,\n",
    "because AI has the power to solve problems and improve lives. Cautious,\n",
    "because its future depends on how wisely we choose to develop and use\n",
    "it."
   ]
  }
 ],
 "metadata": {
  "colab": {
   "provenance": []
  }
 },
 "nbformat": 4,
 "nbformat_minor": 5
}