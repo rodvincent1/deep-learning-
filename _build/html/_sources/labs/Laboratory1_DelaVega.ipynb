{
  "nbformat": 4,
  "nbformat_minor": 0,
  "metadata": {
    "colab": {
      "provenance": []
    },
    "kernelspec": {
      "name": "python3",
      "display_name": "Python 3"
    },
    "language_info": {
      "name": "python"
    }
  },
  "cells": [
    {
      "cell_type": "markdown",
      "source": [
        "ROD VINCENT DELA VEGA\n",
        "\n",
        "DS4A\n",
        "\n",
        "Laboratory Task 1"
      ],
      "metadata": {
        "id": "-9kZtSvkYOmf"
      }
    },
    {
      "cell_type": "markdown",
      "source": [
        "#Descriptive Analytics\n",
        "\n",
        "1. How many vaccine doses were distributed to each region during the past month?\n",
        "\n",
        "2. What was the average vaccination rate per day over the last two weeks?"
      ],
      "metadata": {
        "id": "xz47_SATYUs2"
      }
    },
    {
      "cell_type": "markdown",
      "source": [
        "#Diagnostic Analytics\n",
        "\n",
        "\n",
        "1. Why did vaccine distribution slow down in certain provinces last month?\n",
        "\n",
        "2. What factors contributed to the decline in vaccination turnout in urban areas?"
      ],
      "metadata": {
        "id": "XXLtcldZYisf"
      }
    },
    {
      "cell_type": "markdown",
      "source": [
        "#Predictive Analytics\n",
        "\n",
        "\n",
        "1. How many vaccine doses will be needed in the next two weeks based on infection trends?\n",
        "\n",
        "2. What is the projected infection rate if the vaccination campaign continues at the current pace?"
      ],
      "metadata": {
        "id": "sWTjvw9aYot3"
      }
    },
    {
      "cell_type": "markdown",
      "source": [
        "#Prescriptive Analytics\n",
        "\n",
        "\n",
        "1. If vaccine demand rises by 20%, how should production be adjusted to meet the target supply?\n",
        "\n",
        "2. What distribution strategy should be implemented to ensure vaccines reach high-risk areas efficiently?"
      ],
      "metadata": {
        "id": "W4yMaLKXYulu"
      }
    }
  ]
}