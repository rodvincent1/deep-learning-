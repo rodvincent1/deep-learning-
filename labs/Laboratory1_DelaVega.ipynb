{
  "cells": [
    {
      "cell_type": "markdown",
      "metadata": {
        "id": "-9kZtSvkYOmf"
      },
      "source": [
        "# Laboratory 1 \n",
        "**Name:** Rod Vincent Dela Vega\n",
        "\n",
        "**Section:** DS4A"
      ]
    },
    {
      "cell_type": "markdown",
      "metadata": {
        "id": "xz47_SATYUs2"
      },
      "source": [
        "#Descriptive Analytics\n",
        "\n",
        "1. How many vaccine doses were distributed to each region during the past month?\n",
        "\n",
        "2. What was the average vaccination rate per day over the last two weeks?"
      ]
    },
    {
      "cell_type": "markdown",
      "metadata": {
        "id": "XXLtcldZYisf"
      },
      "source": [
        "#Diagnostic Analytics\n",
        "\n",
        "\n",
        "1. Why did vaccine distribution slow down in certain provinces last month?\n",
        "\n",
        "2. What factors contributed to the decline in vaccination turnout in urban areas?"
      ]
    },
    {
      "cell_type": "markdown",
      "metadata": {
        "id": "sWTjvw9aYot3"
      },
      "source": [
        "#Predictive Analytics\n",
        "\n",
        "\n",
        "1. How many vaccine doses will be needed in the next two weeks based on infection trends?\n",
        "\n",
        "2. What is the projected infection rate if the vaccination campaign continues at the current pace?"
      ]
    },
    {
      "cell_type": "markdown",
      "metadata": {
        "id": "W4yMaLKXYulu"
      },
      "source": [
        "#Prescriptive Analytics\n",
        "\n",
        "\n",
        "1. If vaccine demand rises by 20%, how should production be adjusted to meet the target supply?\n",
        "\n",
        "2. What distribution strategy should be implemented to ensure vaccines reach high-risk areas efficiently?"
      ]
    }
  ],
  "metadata": {
    "colab": {
      "provenance": []
    },
    "kernelspec": {
      "display_name": "Python 3",
      "name": "python3"
    },
    "language_info": {
      "name": "python"
    }
  },
  "nbformat": 4,
  "nbformat_minor": 0
}
